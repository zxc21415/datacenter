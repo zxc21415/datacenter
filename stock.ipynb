{
 "cells": [
  {
   "cell_type": "code",
   "execution_count": 3,
   "id": "ac142119",
   "metadata": {},
   "outputs": [
    {
     "name": "stdout",
     "output_type": "stream",
     "text": [
      "Defaulting to user installation because normal site-packages is not writeable\n",
      "Requirement already satisfied: twstock in c:\\users\\user\\appdata\\roaming\\python\\python39\\site-packages (1.3.1)\n",
      "Requirement already satisfied: requests in c:\\programdata\\anaconda3\\lib\\site-packages (from twstock) (2.27.1)\n",
      "Requirement already satisfied: idna<4,>=2.5 in c:\\programdata\\anaconda3\\lib\\site-packages (from requests->twstock) (3.3)\n",
      "Requirement already satisfied: certifi>=2017.4.17 in c:\\programdata\\anaconda3\\lib\\site-packages (from requests->twstock) (2021.10.8)\n",
      "Requirement already satisfied: charset-normalizer~=2.0.0 in c:\\programdata\\anaconda3\\lib\\site-packages (from requests->twstock) (2.0.4)\n",
      "Requirement already satisfied: urllib3<1.27,>=1.21.1 in c:\\programdata\\anaconda3\\lib\\site-packages (from requests->twstock) (1.26.9)\n",
      "Note: you may need to restart the kernel to use updated packages.\n"
     ]
    }
   ],
   "source": [
    "#每次都要做\n",
    "%pip install twstock"
   ]
  },
  {
   "cell_type": "code",
   "execution_count": 3,
   "id": "06bb719b",
   "metadata": {},
   "outputs": [],
   "source": [
    "import twstock\n",
    "tsmc = twstock.Stock(\"2303\")\n",
    "data = tsmc.fetch(2021,6)"
   ]
  },
  {
   "cell_type": "code",
   "execution_count": 5,
   "id": "1337828f",
   "metadata": {},
   "outputs": [
    {
     "name": "stdout",
     "output_type": "stream",
     "text": [
      "Empty DataFrame\n",
      "Columns: []\n",
      "Index: []\n"
     ]
    }
   ],
   "source": [
    "# data #串列\n",
    "#用熊貓表格化\n",
    "import pandas as pd\n",
    "df = pd.DataFrame(data)\n",
    "#print(df)\n",
    "#dateinfo= list(df['date'])\n",
    "print(df)\n",
    "# openinfo=list(df.open)\n",
    "# closeinfo=list(df.close)\n",
    "# transinfo=list(df.transaction)\n",
    "# alldata=zip(dateinfo,openinfo,closeinfo,transinfo)\n",
    "# for d in alldata:\n",
    "#     print(d)"
   ]
  }
 ],
 "metadata": {
  "kernelspec": {
   "display_name": "Python 3 (ipykernel)",
   "language": "python",
   "name": "python3"
  },
  "language_info": {
   "codemirror_mode": {
    "name": "ipython",
    "version": 3
   },
   "file_extension": ".py",
   "mimetype": "text/x-python",
   "name": "python",
   "nbconvert_exporter": "python",
   "pygments_lexer": "ipython3",
   "version": "3.9.12"
  },
  "vscode": {
   "interpreter": {
    "hash": "df95319d8ce4e1d89f5365ae10992bc1f65da593082b1d264e8f529830ec2f02"
   }
  }
 },
 "nbformat": 4,
 "nbformat_minor": 5
}
