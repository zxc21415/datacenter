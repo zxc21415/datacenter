{
 "cells": [
  {
   "cell_type": "code",
   "execution_count": 1,
   "id": "ac142119",
   "metadata": {},
   "outputs": [
    {
     "name": "stdout",
     "output_type": "stream",
     "text": [
      "Defaulting to user installation because normal site-packages is not writeableNote: you may need to restart the kernel to use updated packages.\n"
     ]
    },
    {
     "name": "stderr",
     "output_type": "stream",
     "text": [
      "  WARNING: The script twstock.exe is installed in 'C:\\Users\\USER\\AppData\\Roaming\\Python\\Python39\\Scripts' which is not on PATH.\n",
      "  Consider adding this directory to PATH or, if you prefer to suppress this warning, use --no-warn-script-location.\n"
     ]
    },
    {
     "name": "stdout",
     "output_type": "stream",
     "text": [
      "\n",
      "Collecting twstock\n",
      "  Downloading twstock-1.3.1-py3-none-any.whl (1.9 MB)\n",
      "Requirement already satisfied: requests in c:\\programdata\\anaconda3\\lib\\site-packages (from twstock) (2.27.1)\n",
      "Requirement already satisfied: urllib3<1.27,>=1.21.1 in c:\\programdata\\anaconda3\\lib\\site-packages (from requests->twstock) (1.26.9)\n",
      "Requirement already satisfied: idna<4,>=2.5 in c:\\programdata\\anaconda3\\lib\\site-packages (from requests->twstock) (3.3)\n",
      "Requirement already satisfied: certifi>=2017.4.17 in c:\\programdata\\anaconda3\\lib\\site-packages (from requests->twstock) (2021.10.8)\n",
      "Requirement already satisfied: charset-normalizer~=2.0.0 in c:\\programdata\\anaconda3\\lib\\site-packages (from requests->twstock) (2.0.4)\n",
      "Installing collected packages: twstock\n",
      "Successfully installed twstock-1.3.1\n"
     ]
    }
   ],
   "source": [
    "#每次都要做\n",
    "%pip install twstock"
   ]
  },
  {
   "cell_type": "code",
   "execution_count": 3,
   "id": "06bb719b",
   "metadata": {},
   "outputs": [],
   "source": [
    "import twstock\n",
    "tsmc = twstock.Stock(\"2330\")\n",
    "data = tsmc.fetch(2022,6)"
   ]
  },
  {
   "cell_type": "code",
   "execution_count": 7,
   "id": "1337828f",
   "metadata": {},
   "outputs": [
    {
     "name": "stdout",
     "output_type": "stream",
     "text": [
      "(Timestamp('2022-06-01 00:00:00'), 550.0, 549.0, 33456)\n",
      "(Timestamp('2022-06-02 00:00:00'), 544.0, 540.0, 30042)\n",
      "(Timestamp('2022-06-06 00:00:00'), 541.0, 540.0, 16614)\n",
      "(Timestamp('2022-06-07 00:00:00'), 535.0, 535.0, 28586)\n",
      "(Timestamp('2022-06-08 00:00:00'), 539.0, 544.0, 18487)\n",
      "(Timestamp('2022-06-09 00:00:00'), 538.0, 541.0, 18802)\n",
      "(Timestamp('2022-06-10 00:00:00'), 530.0, 530.0, 44802)\n",
      "(Timestamp('2022-06-13 00:00:00'), 518.0, 516.0, 112023)\n",
      "(Timestamp('2022-06-14 00:00:00'), 507.0, 513.0, 85483)\n",
      "(Timestamp('2022-06-15 00:00:00'), 508.0, 509.0, 72687)\n",
      "(Timestamp('2022-06-16 00:00:00'), 515.0, 508.0, 42177)\n",
      "(Timestamp('2022-06-17 00:00:00'), 499.5, 501.0, 119618)\n",
      "(Timestamp('2022-06-20 00:00:00'), 500.0, 498.0, 89541)\n",
      "(Timestamp('2022-06-21 00:00:00'), 501.0, 505.0, 32427)\n",
      "(Timestamp('2022-06-22 00:00:00'), 501.0, 494.5, 81024)\n",
      "(Timestamp('2022-06-23 00:00:00'), 492.0, 485.5, 104661)\n",
      "(Timestamp('2022-06-24 00:00:00'), 489.5, 486.5, 43609)\n",
      "(Timestamp('2022-06-27 00:00:00'), 496.0, 498.5, 37438)\n",
      "(Timestamp('2022-06-28 00:00:00'), 496.0, 497.5, 18988)\n",
      "(Timestamp('2022-06-29 00:00:00'), 496.0, 491.0, 40024)\n",
      "(Timestamp('2022-06-30 00:00:00'), 484.5, 476.0, 111117)\n"
     ]
    }
   ],
   "source": [
    "# data #串列\n",
    "#用熊貓表格化\n",
    "import pandas as pd\n",
    "df = pd.DataFrame(data)\n",
    "dateinfo= list(df.date)\n",
    "openinfo=list(df.open)\n",
    "closeinfo=list(df.close)\n",
    "transinfo=list(df.transaction)\n",
    "alldata=zip(dateinfo,openinfo,closeinfo,transinfo)\n",
    "for d in alldata:\n",
    "    print(d)"
   ]
  }
 ],
 "metadata": {
  "kernelspec": {
   "display_name": "Python 3 (ipykernel)",
   "language": "python",
   "name": "python3"
  },
  "language_info": {
   "codemirror_mode": {
    "name": "ipython",
    "version": 3
   },
   "file_extension": ".py",
   "mimetype": "text/x-python",
   "name": "python",
   "nbconvert_exporter": "python",
   "pygments_lexer": "ipython3",
   "version": "3.9.12"
  }
 },
 "nbformat": 4,
 "nbformat_minor": 5
}
